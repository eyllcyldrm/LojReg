{
 "cells": [
  {
   "cell_type": "code",
   "execution_count": null,
   "id": "5005a2bb",
   "metadata": {},
   "outputs": [],
   "source": []
  },
  {
   "cell_type": "markdown",
   "id": "46b62d95",
   "metadata": {},
   "source": [
    "Diabets veri seti incelemesi:\n",
    "\n",
    "Amacımız: Veri setinin içerdiği bilgiler ile, bir hasta geldiğinde onun şeker hastası olup olmadığını tahmin edebilecek bir makine öğrenmesi modeli geliştirmek\n",
    "Pregnancies: Daha önce geçirilen hamilelik sayısı\n",
    "\n",
    "Glucose : kandaki glikoz seviyesi\n",
    "\n",
    "BloodPressure: kan basıncı\n",
    "\n",
    "SkinThickness: cilt kalınlığı\n",
    "\n",
    "Insulin : İnüsilin değeri\n",
    "\n",
    "BMI: Vücut kitle endeksi\n",
    "\n",
    "DiabetesPedigreeFunction : Diyabetin Pedigri İşlevi\n",
    "\n",
    "Age: yaş\n",
    "\n",
    "Outcome: 1 → diabet, 0→ sağlıklı\n",
    "\n",
    "Outcome : çıktı/hedef/bağımlı/y değişkeni"
   ]
  },
  {
   "cell_type": "code",
   "execution_count": 9,
   "id": "fa02fa5d",
   "metadata": {},
   "outputs": [],
   "source": [
    "import pandas as pd\n",
    "from sklearn.model_selection import train_test_split, GridSearchCV, cross_val_score\n",
    "from sklearn.metrics import confusion_matrix, accuracy_score, classification_report\n",
    "from sklearn.metrics import roc_auc_score,roc_curve\n",
    "import matplotlib.pyplot as plt\n",
    "from sklearn.ensemble import RandomForestClassifier"
   ]
  },
  {
   "cell_type": "code",
   "execution_count": 2,
   "id": "c21a1d39",
   "metadata": {},
   "outputs": [
    {
     "data": {
      "text/html": [
       "<div>\n",
       "<style scoped>\n",
       "    .dataframe tbody tr th:only-of-type {\n",
       "        vertical-align: middle;\n",
       "    }\n",
       "\n",
       "    .dataframe tbody tr th {\n",
       "        vertical-align: top;\n",
       "    }\n",
       "\n",
       "    .dataframe thead th {\n",
       "        text-align: right;\n",
       "    }\n",
       "</style>\n",
       "<table border=\"1\" class=\"dataframe\">\n",
       "  <thead>\n",
       "    <tr style=\"text-align: right;\">\n",
       "      <th></th>\n",
       "      <th>Pregnancies</th>\n",
       "      <th>Glucose</th>\n",
       "      <th>BloodPressure</th>\n",
       "      <th>SkinThickness</th>\n",
       "      <th>Insulin</th>\n",
       "      <th>BMI</th>\n",
       "      <th>DiabetesPedigreeFunction</th>\n",
       "      <th>Age</th>\n",
       "      <th>Outcome</th>\n",
       "    </tr>\n",
       "  </thead>\n",
       "  <tbody>\n",
       "    <tr>\n",
       "      <th>0</th>\n",
       "      <td>6</td>\n",
       "      <td>148</td>\n",
       "      <td>72</td>\n",
       "      <td>35</td>\n",
       "      <td>0</td>\n",
       "      <td>33.6</td>\n",
       "      <td>0.627</td>\n",
       "      <td>50</td>\n",
       "      <td>1</td>\n",
       "    </tr>\n",
       "    <tr>\n",
       "      <th>1</th>\n",
       "      <td>1</td>\n",
       "      <td>85</td>\n",
       "      <td>66</td>\n",
       "      <td>29</td>\n",
       "      <td>0</td>\n",
       "      <td>26.6</td>\n",
       "      <td>0.351</td>\n",
       "      <td>31</td>\n",
       "      <td>0</td>\n",
       "    </tr>\n",
       "    <tr>\n",
       "      <th>2</th>\n",
       "      <td>8</td>\n",
       "      <td>183</td>\n",
       "      <td>64</td>\n",
       "      <td>0</td>\n",
       "      <td>0</td>\n",
       "      <td>23.3</td>\n",
       "      <td>0.672</td>\n",
       "      <td>32</td>\n",
       "      <td>1</td>\n",
       "    </tr>\n",
       "    <tr>\n",
       "      <th>3</th>\n",
       "      <td>1</td>\n",
       "      <td>89</td>\n",
       "      <td>66</td>\n",
       "      <td>23</td>\n",
       "      <td>94</td>\n",
       "      <td>28.1</td>\n",
       "      <td>0.167</td>\n",
       "      <td>21</td>\n",
       "      <td>0</td>\n",
       "    </tr>\n",
       "    <tr>\n",
       "      <th>4</th>\n",
       "      <td>0</td>\n",
       "      <td>137</td>\n",
       "      <td>40</td>\n",
       "      <td>35</td>\n",
       "      <td>168</td>\n",
       "      <td>43.1</td>\n",
       "      <td>2.288</td>\n",
       "      <td>33</td>\n",
       "      <td>1</td>\n",
       "    </tr>\n",
       "  </tbody>\n",
       "</table>\n",
       "</div>"
      ],
      "text/plain": [
       "   Pregnancies  Glucose  BloodPressure  SkinThickness  Insulin   BMI  \\\n",
       "0            6      148             72             35        0  33.6   \n",
       "1            1       85             66             29        0  26.6   \n",
       "2            8      183             64              0        0  23.3   \n",
       "3            1       89             66             23       94  28.1   \n",
       "4            0      137             40             35      168  43.1   \n",
       "\n",
       "   DiabetesPedigreeFunction  Age  Outcome  \n",
       "0                     0.627   50        1  \n",
       "1                     0.351   31        0  \n",
       "2                     0.672   32        1  \n",
       "3                     0.167   21        0  \n",
       "4                     2.288   33        1  "
      ]
     },
     "execution_count": 2,
     "metadata": {},
     "output_type": "execute_result"
    }
   ],
   "source": [
    "diabets = pd.read_csv(\"diabetes.csv\")\n",
    "df = diabets.copy()\n",
    "df = df.dropna() \n",
    "df.head()"
   ]
  },
  {
   "cell_type": "code",
   "execution_count": 3,
   "id": "a25c6209",
   "metadata": {},
   "outputs": [
    {
     "name": "stdout",
     "output_type": "stream",
     "text": [
      "<class 'pandas.core.frame.DataFrame'>\n",
      "Int64Index: 768 entries, 0 to 767\n",
      "Data columns (total 9 columns):\n",
      " #   Column                    Non-Null Count  Dtype  \n",
      "---  ------                    --------------  -----  \n",
      " 0   Pregnancies               768 non-null    int64  \n",
      " 1   Glucose                   768 non-null    int64  \n",
      " 2   BloodPressure             768 non-null    int64  \n",
      " 3   SkinThickness             768 non-null    int64  \n",
      " 4   Insulin                   768 non-null    int64  \n",
      " 5   BMI                       768 non-null    float64\n",
      " 6   DiabetesPedigreeFunction  768 non-null    float64\n",
      " 7   Age                       768 non-null    int64  \n",
      " 8   Outcome                   768 non-null    int64  \n",
      "dtypes: float64(2), int64(7)\n",
      "memory usage: 60.0 KB\n"
     ]
    }
   ],
   "source": [
    "df.info()"
   ]
  },
  {
   "cell_type": "markdown",
   "id": "31c5b9e0",
   "metadata": {},
   "source": [
    "768 gözlemimiz bulunmakta.\n",
    "\n",
    "BMI ve DiabetesPedigreeFunction sürekli değişkenler, diğer 7 değişken ise kesikli değişken olarak görülüyor.\n",
    "\n",
    "Burada dikkat edilmesi gereken nokta Outcome değişkeninin aslında kategorik bir değişken olduğudur. Değişken dönüştürme işlemi ile Outcome un veri tipini düzenleyebiliriz.\n",
    "\n",
    "Bağımlı değişkenimizi inceleyelim:"
   ]
  },
  {
   "cell_type": "code",
   "execution_count": 4,
   "id": "8d3d13bb",
   "metadata": {},
   "outputs": [
    {
     "data": {
      "text/plain": [
       "0    500\n",
       "1    268\n",
       "Name: Outcome, dtype: int64"
      ]
     },
     "execution_count": 4,
     "metadata": {},
     "output_type": "execute_result"
    }
   ],
   "source": [
    "df[\"Outcome\"].value_counts()"
   ]
  },
  {
   "cell_type": "code",
   "execution_count": 5,
   "id": "f6c8d07e",
   "metadata": {},
   "outputs": [
    {
     "data": {
      "image/png": "[encoded data removed]",
      "text/plain": [
       "<Figure size 432x288 with 1 Axes>"
      ]
     },
     "metadata": {
      "needs_background": "light"
     },
     "output_type": "display_data"
    }
   ],
   "source": [
    "df[\"Outcome\"].value_counts().plot.barh();"
   ]
  },
  {
   "cell_type": "markdown",
   "id": "5a812a28",
   "metadata": {},
   "source": [
    "diyabet olan kişi sayısı 268, geri kalan 500 kişi diyabet değil.\n",
    "\n",
    "betimsel istatistiklere bakalım:"
   ]
  },
  {
   "cell_type": "code",
   "execution_count": 6,
   "id": "5a4f717a",
   "metadata": {},
   "outputs": [
    {
     "data": {
      "text/html": [
       "<div>\n",
       "<style scoped>\n",
       "    .dataframe tbody tr th:only-of-type {\n",
       "        vertical-align: middle;\n",
       "    }\n",
       "\n",
       "    .dataframe tbody tr th {\n",
       "        vertical-align: top;\n",
       "    }\n",
       "\n",
       "    .dataframe thead th {\n",
       "        text-align: right;\n",
       "    }\n",
       "</style>\n",
       "<table border=\"1\" class=\"dataframe\">\n",
       "  <thead>\n",
       "    <tr style=\"text-align: right;\">\n",
       "      <th></th>\n",
       "      <th>count</th>\n",
       "      <th>mean</th>\n",
       "      <th>std</th>\n",
       "      <th>min</th>\n",
       "      <th>25%</th>\n",
       "      <th>50%</th>\n",
       "      <th>75%</th>\n",
       "      <th>max</th>\n",
       "    </tr>\n",
       "  </thead>\n",
       "  <tbody>\n",
       "    <tr>\n",
       "      <th>Pregnancies</th>\n",
       "      <td>768.0</td>\n",
       "      <td>3.845052</td>\n",
       "      <td>3.369578</td>\n",
       "      <td>0.000</td>\n",
       "      <td>1.00000</td>\n",
       "      <td>3.0000</td>\n",
       "      <td>6.00000</td>\n",
       "      <td>17.00</td>\n",
       "    </tr>\n",
       "    <tr>\n",
       "      <th>Glucose</th>\n",
       "      <td>768.0</td>\n",
       "      <td>120.894531</td>\n",
       "      <td>31.972618</td>\n",
       "      <td>0.000</td>\n",
       "      <td>99.00000</td>\n",
       "      <td>117.0000</td>\n",
       "      <td>140.25000</td>\n",
       "      <td>199.00</td>\n",
       "    </tr>\n",
       "    <tr>\n",
       "      <th>BloodPressure</th>\n",
       "      <td>768.0</td>\n",
       "      <td>69.105469</td>\n",
       "      <td>19.355807</td>\n",
       "      <td>0.000</td>\n",
       "      <td>62.00000</td>\n",
       "      <td>72.0000</td>\n",
       "      <td>80.00000</td>\n",
       "      <td>122.00</td>\n",
       "    </tr>\n",
       "    <tr>\n",
       "      <th>SkinThickness</th>\n",
       "      <td>768.0</td>\n",
       "      <td>20.536458</td>\n",
       "      <td>15.952218</td>\n",
       "      <td>0.000</td>\n",
       "      <td>0.00000</td>\n",
       "      <td>23.0000</td>\n",
       "      <td>32.00000</td>\n",
       "      <td>99.00</td>\n",
       "    </tr>\n",
       "    <tr>\n",
       "      <th>Insulin</th>\n",
       "      <td>768.0</td>\n",
       "      <td>79.799479</td>\n",
       "      <td>115.244002</td>\n",
       "      <td>0.000</td>\n",
       "      <td>0.00000</td>\n",
       "      <td>30.5000</td>\n",
       "      <td>127.25000</td>\n",
       "      <td>846.00</td>\n",
       "    </tr>\n",
       "    <tr>\n",
       "      <th>BMI</th>\n",
       "      <td>768.0</td>\n",
       "      <td>31.992578</td>\n",
       "      <td>7.884160</td>\n",
       "      <td>0.000</td>\n",
       "      <td>27.30000</td>\n",
       "      <td>32.0000</td>\n",
       "      <td>36.60000</td>\n",
       "      <td>67.10</td>\n",
       "    </tr>\n",
       "    <tr>\n",
       "      <th>DiabetesPedigreeFunction</th>\n",
       "      <td>768.0</td>\n",
       "      <td>0.471876</td>\n",
       "      <td>0.331329</td>\n",
       "      <td>0.078</td>\n",
       "      <td>0.24375</td>\n",
       "      <td>0.3725</td>\n",
       "      <td>0.62625</td>\n",
       "      <td>2.42</td>\n",
       "    </tr>\n",
       "    <tr>\n",
       "      <th>Age</th>\n",
       "      <td>768.0</td>\n",
       "      <td>33.240885</td>\n",
       "      <td>11.760232</td>\n",
       "      <td>21.000</td>\n",
       "      <td>24.00000</td>\n",
       "      <td>29.0000</td>\n",
       "      <td>41.00000</td>\n",
       "      <td>81.00</td>\n",
       "    </tr>\n",
       "    <tr>\n",
       "      <th>Outcome</th>\n",
       "      <td>768.0</td>\n",
       "      <td>0.348958</td>\n",
       "      <td>0.476951</td>\n",
       "      <td>0.000</td>\n",
       "      <td>0.00000</td>\n",
       "      <td>0.0000</td>\n",
       "      <td>1.00000</td>\n",
       "      <td>1.00</td>\n",
       "    </tr>\n",
       "  </tbody>\n",
       "</table>\n",
       "</div>"
      ],
      "text/plain": [
       "                          count        mean         std     min       25%  \\\n",
       "Pregnancies               768.0    3.845052    3.369578   0.000   1.00000   \n",
       "Glucose                   768.0  120.894531   31.972618   0.000  99.00000   \n",
       "BloodPressure             768.0   69.105469   19.355807   0.000  62.00000   \n",
       "SkinThickness             768.0   20.536458   15.952218   0.000   0.00000   \n",
       "Insulin                   768.0   79.799479  115.244002   0.000   0.00000   \n",
       "BMI                       768.0   31.992578    7.884160   0.000  27.30000   \n",
       "DiabetesPedigreeFunction  768.0    0.471876    0.331329   0.078   0.24375   \n",
       "Age                       768.0   33.240885   11.760232  21.000  24.00000   \n",
       "Outcome                   768.0    0.348958    0.476951   0.000   0.00000   \n",
       "\n",
       "                               50%        75%     max  \n",
       "Pregnancies                 3.0000    6.00000   17.00  \n",
       "Glucose                   117.0000  140.25000  199.00  \n",
       "BloodPressure              72.0000   80.00000  122.00  \n",
       "SkinThickness              23.0000   32.00000   99.00  \n",
       "Insulin                    30.5000  127.25000  846.00  \n",
       "BMI                        32.0000   36.60000   67.10  \n",
       "DiabetesPedigreeFunction    0.3725    0.62625    2.42  \n",
       "Age                        29.0000   41.00000   81.00  \n",
       "Outcome                     0.0000    1.00000    1.00  "
      ]
     },
     "execution_count": 6,
     "metadata": {},
     "output_type": "execute_result"
    }
   ],
   "source": [
    "df.describe().T"
   ]
  },
  {
   "cell_type": "markdown",
   "id": "9e131dd1",
   "metadata": {},
   "source": [
    "Pregnancies ortalaması yaklaşık 4, standart sapması yaklaşık 3 olan bir dağılım. Max değeri olan 17 bir uç değerdir. şeklinde yorumlamalar yapılır.\n",
    "\n",
    "Outcome değişkenini 1 yapan ayırt edici değişkenler hangileri olabilir? Bu sorunun cevabını lojistik regresyon modeli kurarak arayalım:"
   ]
  },
  {
   "cell_type": "markdown",
   "id": "e4b8d2ca",
   "metadata": {},
   "source": [
    "## Model"
   ]
  },
  {
   "cell_type": "code",
   "execution_count": 10,
   "id": "ea64cf08",
   "metadata": {},
   "outputs": [],
   "source": [
    "y = df[\"Outcome\"]\n",
    "X = df.drop([\"Outcome\"], axis=1) # Bağımsız değişkenimiz X' in, y' yi etkileyebilecek değişkenlerden oluşması gerekir. Bunun için y değerleri olan Outcome sütununu X değişkenimizden çıkartalım."
   ]
  },
  {
   "cell_type": "code",
   "execution_count": 11,
   "id": "917b30de",
   "metadata": {},
   "outputs": [],
   "source": [
    "X_train, X_test, y_train, y_test = train_test_split(X,y,\n",
    "                                                   test_size = 0.25,\n",
    "                                                   random_state = 42)"
   ]
  },
  {
   "cell_type": "code",
   "execution_count": 12,
   "id": "8a2eef78",
   "metadata": {},
   "outputs": [
    {
     "data": {
      "text/plain": [
       "RandomForestClassifier()"
      ]
     },
     "execution_count": 12,
     "metadata": {},
     "output_type": "execute_result"
    }
   ],
   "source": [
    "#from sklearn.ensemble import RandomForestClassifier\n",
    "rf_model = RandomForestClassifier().fit(X_train, y_train)\n",
    "rf_model"
   ]
  },
  {
   "cell_type": "code",
   "execution_count": 13,
   "id": "01257801",
   "metadata": {},
   "outputs": [
    {
     "data": {
      "text/plain": [
       "RandomForestClassifier()"
      ]
     },
     "execution_count": 13,
     "metadata": {},
     "output_type": "execute_result"
    }
   ],
   "source": [
    "rf_model"
   ]
  },
  {
   "cell_type": "code",
   "execution_count": 14,
   "id": "8943740c",
   "metadata": {},
   "outputs": [
    {
     "data": {
      "text/plain": [
       "0.71875"
      ]
     },
     "execution_count": 14,
     "metadata": {},
     "output_type": "execute_result"
    }
   ],
   "source": [
    "y_pred = rf_model.predict(X_test)\n",
    "accuracy_score(y_test, y_pred)"
   ]
  },
  {
   "cell_type": "markdown",
   "id": "a221a3f9",
   "metadata": {},
   "source": [
    "* Valide edilmemiş test hatamız: 0.7552083333333334"
   ]
  },
  {
   "cell_type": "markdown",
   "id": "081fc4e5",
   "metadata": {},
   "source": [
    "Model Tuning\n",
    "random forest in önemli bazı parametreleri:\n",
    "\n",
    "Kullamılacak olan ağaç sayısı (n_estimators): ağaç sayısını belirlerken 10, 100, 1000... şeklinde ağaç sayısını belirleyip hangi ağaç sayısında modelin daha iyi çalıştığını gözlemle.\n",
    "Bölünmelerde göz önüne alınacak olan değişken sayısı (max_features)\n",
    "rf değişken seçimi ve gözlemlerin rastgele seçilmesi işlemini içinde bulunduran bir sınıflandırma yöntemi oludğu için n_estimators ve max_features parametremiz bu algoritma için en önemlş olan parametrelerdir. Değişiklik yapacağımız ve kullanacağımız diğer parametrelere de bakalım\n",
    "\n",
    "max_depth : Ağacın maksimum derinliği. None ise, tüm yapraklar saf olana veya tüm yapraklar min_samples_split örneklerinden daha azını içerene kadar düğümler genişletilir.\n",
    "\n",
    "min_samples_split: Bir dahili düğümü bölmek için gereken minimum örnek sayısı:\n",
    "\n",
    " - int ise, minimum sayı olarak min_samples_split\n",
    " - Float ise, \"min_samples_split\" bir kesirdir ve\n",
    "ceil(min_samples_split * n_samples), her bölme için minimum örnek sayısıdır.\n",
    "\n",
    "bootstap: Ağaç oluştururken önyükleme örneklerinin kullanılıp kullanılmadığı. False ise, her ağacı oluşturmak için tüm veri kümesi kullanılır."
   ]
  },
  {
   "cell_type": "code",
   "execution_count": 15,
   "id": "635577bb",
   "metadata": {},
   "outputs": [],
   "source": [
    "?rf_model"
   ]
  },
  {
   "cell_type": "code",
   "execution_count": 16,
   "id": "4f75bea0",
   "metadata": {},
   "outputs": [],
   "source": [
    "rf_params = {\"max_depth\": [2,5,8,10],\n",
    "            \"max_features\": [2,5,8],\n",
    "            \"n_estimators\": [10,500,1000],\n",
    "            \"min_samples_split\": [2,5,10]}"
   ]
  },
  {
   "cell_type": "markdown",
   "id": "b453da77",
   "metadata": {},
   "source": [
    "not: veri setimizde 8 değişken vardı. Göz önüne alınacak parametre sayısını = 8 yaparsak bu işleme bagging denirdi.\n",
    "\n",
    "Burada yaptığımız şey örneğin n_estimators parametresi için =10, =500, =1000 değerleninin denenmesini sağlamaktır."
   ]
  },
  {
   "cell_type": "code",
   "execution_count": 17,
   "id": "73636479",
   "metadata": {},
   "outputs": [],
   "source": [
    "rf_model = RandomForestClassifier()\n",
    "\n",
    "rf_cv_model = GridSearchCV(rf_model,\n",
    "                          rf_params,\n",
    "                          cv = 10,\n",
    "                          n_jobs = -1,\n",
    "                          verbose = 2)"
   ]
  },
  {
   "cell_type": "markdown",
   "id": "24fbe074",
   "metadata": {},
   "source": [
    "1080 adet fit etme işlemi gerçekleştirecek"
   ]
  },
  {
   "cell_type": "code",
   "execution_count": null,
   "id": "c447d443",
   "metadata": {},
   "outputs": [
    {
     "name": "stdout",
     "output_type": "stream",
     "text": [
      "Fitting 10 folds for each of 108 candidates, totalling 1080 fits\n"
     ]
    }
   ],
   "source": [
    "rf_cv_model.fit(X_train, y_train)"
   ]
  },
  {
   "cell_type": "markdown",
   "id": "82d11e73",
   "metadata": {},
   "source": [
    "vermiş olduğumuz parametre gridinden en iyi olan parametreleri öğrenelim:"
   ]
  },
  {
   "cell_type": "code",
   "execution_count": null,
   "id": "4ba9f367",
   "metadata": {},
   "outputs": [],
   "source": [
    "print(\"En iyi parametreler: \" + str(rf_cv_model.best_params_))"
   ]
  },
  {
   "cell_type": "markdown",
   "id": "60c9f337",
   "metadata": {},
   "source": [
    "En iyi paramtrelerimiz ile modeli oluşturup performansını inceleyelim:"
   ]
  },
  {
   "cell_type": "code",
   "execution_count": null,
   "id": "42b59f50",
   "metadata": {},
   "outputs": [],
   "source": [
    "rf_tuned = RandomForestClassifier(max_depth = 10,\n",
    "                                 max_features = 8,\n",
    "                                 min_samples_split = 5,\n",
    "                                 n_estimators = 1000)\n",
    "rf_tuned.fit(X_train, y_train)"
   ]
  },
  {
   "cell_type": "code",
   "execution_count": null,
   "id": "ac15188e",
   "metadata": {},
   "outputs": [],
   "source": [
    "y_pred = rf_tuned.predict(X_test)\n",
    "accuracy_score(y_test, y_pred)"
   ]
  },
  {
   "cell_type": "markdown",
   "id": "12d2148d",
   "metadata": {},
   "source": [
    "Bu işlemlerin en önemli noktası bağımsız değişkenlerin bağımlı değişkeni nasıl etkilediğidir. Bunu inceleyelim:"
   ]
  },
  {
   "cell_type": "code",
   "execution_count": null,
   "id": "164ffb7e",
   "metadata": {},
   "outputs": [],
   "source": [
    "Importance = pd.DataFrame({\"Importance\":rf_tuned.feature_importances_*100},\n",
    "                         index = X_train.columns)"
   ]
  },
  {
   "cell_type": "code",
   "execution_count": null,
   "id": "2a5b1704",
   "metadata": {},
   "outputs": [],
   "source": [
    "Importance"
   ]
  },
  {
   "cell_type": "code",
   "execution_count": null,
   "id": "af2a991b",
   "metadata": {},
   "outputs": [],
   "source": [
    "Importance.sort_values(by = \"Importance\",\n",
    "                      axis = 0,\n",
    "                      ascending = True).plot(kind =\"barh\", color = \"g\")\n",
    "plt.xlabel(\"Değişken Önem Düzeyleri\")"
   ]
  },
  {
   "cell_type": "markdown",
   "id": "1a342aeb",
   "metadata": {},
   "source": [
    "elimizdeki verilere göre bir kişinin şeker hastalığına sahip olduğunun tanısını koymamız için gereken en önemli değişkenin Glucose olduğu ortadadır."
   ]
  },
  {
   "cell_type": "code",
   "execution_count": null,
   "id": "d921b64d",
   "metadata": {},
   "outputs": [],
   "source": []
  }
 ],
 "metadata": {
  "kernelspec": {
   "display_name": "Python 3",
   "language": "python",
   "name": "python3"
  },
  "language_info": {
   "codemirror_mode": {
    "name": "ipython",
    "version": 3
   },
   "file_extension": ".py",
   "mimetype": "text/x-python",
   "name": "python",
   "nbconvert_exporter": "python",
   "pygments_lexer": "ipython3",
   "version": "3.8.8"
  }
 },
 "nbformat": 4,
 "nbformat_minor": 5
}
